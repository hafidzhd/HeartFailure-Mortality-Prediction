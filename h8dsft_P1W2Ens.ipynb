{
  "nbformat": 4,
  "nbformat_minor": 2,
  "metadata": {
    "orig_nbformat": 4,
    "language_info": {
      "name": "python",
      "version": "3.8.8"
    },
    "kernelspec": {
      "name": "python3",
      "display_name": "Python 3.8.8 64-bit ('base': conda)"
    },
    "interpreter": {
      "hash": "a28d050710e9fabbbd02a80b3cf3361a45fa3ba2ad7c4831274dc3ad00166d05"
    },
    "colab": {
      "name": "h8dsft_P1W2Ens.ipynb",
      "provenance": [],
      "collapsed_sections": [],
      "toc_visible": true
    }
  },
  "cells": [
    {
      "cell_type": "markdown",
      "source": [
        "# Heart Failure Mortality Prediction\r\n",
        "---\r\n"
      ],
      "metadata": {
        "id": "Lbft6E1jrWFw"
      }
    },
    {
      "cell_type": "markdown",
      "source": [
        "## Introduction\r\n",
        "Author : Hafidzati Hikmadani <br>\r\n",
        "\r\n",
        "\r\n",
        "## Dataset\r\n",
        "Cardiovascular diseases (CVDs) are the number 1 cause of death globally, taking an estimated 17.9 million lives each year, which accounts for 31% of all deaths worlwide.\r\n",
        "Heart failure is a common event caused by CVDs and this dataset contains 12 features that can be used to predict mortality by heart failure.\r\n",
        "\r\n",
        "Most cardiovascular diseases can be prevented by addressing behavioural risk factors such as tobacco use, unhealthy diet and obesity, physical inactivity and harmful use of alcohol using population-wide strategies.\r\n",
        "\r\n",
        "People with cardiovascular disease or who are at high cardiovascular risk (due to the presence of one or more risk factors such as hypertension, diabetes, hyperlipidaemia or already established disease) need early detection and management wherein a machine learning model can be of great help.\r\n",
        "\r\n",
        "__Attributes :__\r\n",
        "1. age\r\n",
        "2. anaemia : Decrease of red blood cells or hemoglobin (no anemia=0 , has anemia=1|)\r\n",
        "3. creatinine_phosphokinase : Level of the CPK enzyme in the blood (mcg/L)\r\n",
        "4. diabetes  : If the patient has diabetes (no diabetes =0 , has diabetes = 1)\r\n",
        "5. ejection_fraction: Percentage of blood leaving the heart at each contraction (percentage)\r\n",
        "6. high_blood_pressure  :If the patient has hypertension (no hypertension = 0 , has hypertension=1)\r\n",
        "7. platelets : Platelets in the blood (kiloplatelets/mL)\r\n",
        "8. serum_creatinine : Level of serum creatinine in the blood (mg/dL)\r\n",
        "9. serum_sodium : Level of serum sodium in the blood (mEq/L)\r\n",
        "10. sex : woman or man (female=0 , male =1)\r\n",
        "11. smoking ( no smoking=0, smoking =1)\r\n",
        "12. time : Follow-up period (days)\r\n",
        "13. death_event ( not dead=0 , dead=1)\r\n",
        "\r\n",
        "\r\n",
        "\r\n",
        "_Citation_<br>\r\n",
        "_Davide Chicco, Giuseppe Jurman: Machine learning can predict survival of patients with heart failure from serum creatinine and ejection fraction alone. BMC Medical Informatics and Decision Making 20, 16 (2020). [Link](https://bmcmedinformdecismak.biomedcentral.com/articles/10.1186/s12911-020-1023-5)_\r\n",
        "\r\n",
        "\r\n",
        "You could download dataset from [here](https://www.kaggle.com/andrewmvd/heart-failure-clinical-data).<br>\r\n",
        "\r\n",
        "\r\n",
        "## Goals\r\n",
        "\r\n",
        "Goals of this notebook is to create a model that could predict mortality caused by Heart Failure and found out how the mortality trends against age , gender and others cormobid disease."
      ],
      "metadata": {
        "id": "kVbXNw4Z9Ywh"
      }
    },
    {
      "cell_type": "markdown",
      "source": [
        "## Import Library"
      ],
      "metadata": {
        "id": "429aj0DH-bms"
      }
    },
    {
      "cell_type": "code",
      "execution_count": 259,
      "source": [
        "import pandas as pd\r\n",
        "import numpy as np\r\n",
        "import seaborn as sns\r\n",
        "import matplotlib.pyplot as plt\r\n",
        "from sklearn.impute import SimpleImputer\r\n",
        "import warnings\r\n",
        "\r\n",
        "\r\n",
        "from sklearn.model_selection import train_test_split, StratifiedKFold, cross_val_score\r\n",
        "from sklearn.preprocessing import OrdinalEncoder, LabelEncoder, MinMaxScaler\r\n",
        "from sklearn.ensemble import RandomForestClassifier\r\n",
        "from sklearn.metrics import accuracy_score\r\n",
        "from sklearn.ensemble import AdaBoostClassifier\r\n",
        "from sklearn.svm import SVC\r\n",
        "from sklearn.tree import DecisionTreeClassifier\r\n",
        "from sklearn.ensemble import GradientBoostingClassifier , BaggingClassifier\r\n",
        "from sklearn.metrics import confusion_matrix\r\n",
        "from sklearn.metrics import classification_report\r\n",
        "from sklearn.metrics import roc_auc_score\r\n",
        "from sklearn.metrics import roc_curve\r\n",
        "from sklearn.metrics import accuracy_score\r\n"
      ],
      "outputs": [],
      "metadata": {
        "id": "1PJFVMfRrWF4"
      }
    },
    {
      "cell_type": "markdown",
      "source": [
        "## Data Loading"
      ],
      "metadata": {
        "id": "rZwAl8ZD-i-9"
      }
    },
    {
      "cell_type": "code",
      "execution_count": 260,
      "source": [
        "#Load Data\r\n",
        "data = pd.read_csv(\"heart_failure_clinical_records_dataset.csv\")"
      ],
      "outputs": [],
      "metadata": {
        "id": "Y3LBHUzm-hx2"
      }
    },
    {
      "cell_type": "code",
      "execution_count": 261,
      "source": [
        "#Preview data\r\n",
        "data.head()"
      ],
      "outputs": [
        {
          "output_type": "execute_result",
          "data": {
            "text/html": [
              "<div>\n",
              "<style scoped>\n",
              "    .dataframe tbody tr th:only-of-type {\n",
              "        vertical-align: middle;\n",
              "    }\n",
              "\n",
              "    .dataframe tbody tr th {\n",
              "        vertical-align: top;\n",
              "    }\n",
              "\n",
              "    .dataframe thead th {\n",
              "        text-align: right;\n",
              "    }\n",
              "</style>\n",
              "<table border=\"1\" class=\"dataframe\">\n",
              "  <thead>\n",
              "    <tr style=\"text-align: right;\">\n",
              "      <th></th>\n",
              "      <th>age</th>\n",
              "      <th>anaemia</th>\n",
              "      <th>creatinine_phosphokinase</th>\n",
              "      <th>diabetes</th>\n",
              "      <th>ejection_fraction</th>\n",
              "      <th>high_blood_pressure</th>\n",
              "      <th>platelets</th>\n",
              "      <th>serum_creatinine</th>\n",
              "      <th>serum_sodium</th>\n",
              "      <th>sex</th>\n",
              "      <th>smoking</th>\n",
              "      <th>time</th>\n",
              "      <th>DEATH_EVENT</th>\n",
              "    </tr>\n",
              "  </thead>\n",
              "  <tbody>\n",
              "    <tr>\n",
              "      <th>0</th>\n",
              "      <td>75.0</td>\n",
              "      <td>0</td>\n",
              "      <td>582</td>\n",
              "      <td>0</td>\n",
              "      <td>20</td>\n",
              "      <td>1</td>\n",
              "      <td>265000.00</td>\n",
              "      <td>1.9</td>\n",
              "      <td>130</td>\n",
              "      <td>1</td>\n",
              "      <td>0</td>\n",
              "      <td>4</td>\n",
              "      <td>1</td>\n",
              "    </tr>\n",
              "    <tr>\n",
              "      <th>1</th>\n",
              "      <td>55.0</td>\n",
              "      <td>0</td>\n",
              "      <td>7861</td>\n",
              "      <td>0</td>\n",
              "      <td>38</td>\n",
              "      <td>0</td>\n",
              "      <td>263358.03</td>\n",
              "      <td>1.1</td>\n",
              "      <td>136</td>\n",
              "      <td>1</td>\n",
              "      <td>0</td>\n",
              "      <td>6</td>\n",
              "      <td>1</td>\n",
              "    </tr>\n",
              "    <tr>\n",
              "      <th>2</th>\n",
              "      <td>65.0</td>\n",
              "      <td>0</td>\n",
              "      <td>146</td>\n",
              "      <td>0</td>\n",
              "      <td>20</td>\n",
              "      <td>0</td>\n",
              "      <td>162000.00</td>\n",
              "      <td>1.3</td>\n",
              "      <td>129</td>\n",
              "      <td>1</td>\n",
              "      <td>1</td>\n",
              "      <td>7</td>\n",
              "      <td>1</td>\n",
              "    </tr>\n",
              "    <tr>\n",
              "      <th>3</th>\n",
              "      <td>50.0</td>\n",
              "      <td>1</td>\n",
              "      <td>111</td>\n",
              "      <td>0</td>\n",
              "      <td>20</td>\n",
              "      <td>0</td>\n",
              "      <td>210000.00</td>\n",
              "      <td>1.9</td>\n",
              "      <td>137</td>\n",
              "      <td>1</td>\n",
              "      <td>0</td>\n",
              "      <td>7</td>\n",
              "      <td>1</td>\n",
              "    </tr>\n",
              "    <tr>\n",
              "      <th>4</th>\n",
              "      <td>65.0</td>\n",
              "      <td>1</td>\n",
              "      <td>160</td>\n",
              "      <td>1</td>\n",
              "      <td>20</td>\n",
              "      <td>0</td>\n",
              "      <td>327000.00</td>\n",
              "      <td>2.7</td>\n",
              "      <td>116</td>\n",
              "      <td>0</td>\n",
              "      <td>0</td>\n",
              "      <td>8</td>\n",
              "      <td>1</td>\n",
              "    </tr>\n",
              "  </tbody>\n",
              "</table>\n",
              "</div>"
            ],
            "text/plain": [
              "    age  anaemia  creatinine_phosphokinase  ...  smoking  time  DEATH_EVENT\n",
              "0  75.0        0                       582  ...        0     4            1\n",
              "1  55.0        0                      7861  ...        0     6            1\n",
              "2  65.0        0                       146  ...        1     7            1\n",
              "3  50.0        1                       111  ...        0     7            1\n",
              "4  65.0        1                       160  ...        0     8            1\n",
              "\n",
              "[5 rows x 13 columns]"
            ]
          },
          "metadata": {},
          "execution_count": 261
        }
      ],
      "metadata": {
        "colab": {
          "base_uri": "https://localhost:8080/",
          "height": 204
        },
        "id": "8hmC6rXt-w6s",
        "outputId": "bfd26db9-c80e-4f2a-c082-00e73254195e"
      }
    },
    {
      "cell_type": "code",
      "execution_count": 262,
      "source": [
        "#Show datashape\n",
        "print(data.shape)"
      ],
      "outputs": [
        {
          "output_type": "stream",
          "name": "stdout",
          "text": [
            "(299, 13)\n"
          ]
        }
      ],
      "metadata": {
        "colab": {
          "base_uri": "https://localhost:8080/"
        },
        "id": "zNX05VOC-1zE",
        "outputId": "29e0c08b-2d0b-4727-99b8-f62c04d3b517"
      }
    },
    {
      "cell_type": "markdown",
      "source": [
        "We have 13 attributes in dataset with 299 data row."
      ],
      "metadata": {
        "id": "vLZjz3aC_CEe"
      }
    },
    {
      "cell_type": "code",
      "execution_count": 263,
      "source": [
        "#Show properties info\n",
        "data.info()"
      ],
      "outputs": [
        {
          "output_type": "stream",
          "name": "stdout",
          "text": [
            "<class 'pandas.core.frame.DataFrame'>\n",
            "RangeIndex: 299 entries, 0 to 298\n",
            "Data columns (total 13 columns):\n",
            " #   Column                    Non-Null Count  Dtype  \n",
            "---  ------                    --------------  -----  \n",
            " 0   age                       299 non-null    float64\n",
            " 1   anaemia                   299 non-null    int64  \n",
            " 2   creatinine_phosphokinase  299 non-null    int64  \n",
            " 3   diabetes                  299 non-null    int64  \n",
            " 4   ejection_fraction         299 non-null    int64  \n",
            " 5   high_blood_pressure       299 non-null    int64  \n",
            " 6   platelets                 299 non-null    float64\n",
            " 7   serum_creatinine          299 non-null    float64\n",
            " 8   serum_sodium              299 non-null    int64  \n",
            " 9   sex                       299 non-null    int64  \n",
            " 10  smoking                   299 non-null    int64  \n",
            " 11  time                      299 non-null    int64  \n",
            " 12  DEATH_EVENT               299 non-null    int64  \n",
            "dtypes: float64(3), int64(10)\n",
            "memory usage: 30.5 KB\n"
          ]
        }
      ],
      "metadata": {
        "colab": {
          "base_uri": "https://localhost:8080/"
        },
        "id": "b6I14oah_HXp",
        "outputId": "f75abb2f-f8fd-4be5-c771-206c6c88d20c"
      }
    },
    {
      "cell_type": "markdown",
      "source": [
        "In dataset we have all dataset already numerical type including some might categories attributes info (such as anemia,diabetes, high_blood_pressure, sex, smoking, death_event) in dataset before are represented in boolean."
      ],
      "metadata": {
        "id": "2mHFJYG9-7zv"
      }
    },
    {
      "cell_type": "markdown",
      "source": [
        "## Data Cleaning"
      ],
      "metadata": {
        "id": "DRjKYotyEVS4"
      }
    },
    {
      "cell_type": "code",
      "execution_count": 264,
      "source": [
        "#Copy dataset\n",
        "df = data.copy()"
      ],
      "outputs": [],
      "metadata": {
        "id": "3xIMCcGAEem0"
      }
    },
    {
      "cell_type": "code",
      "execution_count": 265,
      "source": [
        "#Check missing values of all attributes\n",
        "df.isnull().sum()"
      ],
      "outputs": [
        {
          "output_type": "execute_result",
          "data": {
            "text/plain": [
              "age                         0\n",
              "anaemia                     0\n",
              "creatinine_phosphokinase    0\n",
              "diabetes                    0\n",
              "ejection_fraction           0\n",
              "high_blood_pressure         0\n",
              "platelets                   0\n",
              "serum_creatinine            0\n",
              "serum_sodium                0\n",
              "sex                         0\n",
              "smoking                     0\n",
              "time                        0\n",
              "DEATH_EVENT                 0\n",
              "dtype: int64"
            ]
          },
          "metadata": {},
          "execution_count": 265
        }
      ],
      "metadata": {
        "colab": {
          "base_uri": "https://localhost:8080/"
        },
        "id": "WYDfk_pi_Zp1",
        "outputId": "be4d8a40-03a2-4d17-b7a7-af2036a94ebb"
      }
    },
    {
      "cell_type": "markdown",
      "source": [
        "We don't have any missing values."
      ],
      "metadata": {
        "id": "pMWYalsIFFv6"
      }
    },
    {
      "cell_type": "code",
      "execution_count": 266,
      "source": [
        "#Check duplicate rows\n",
        "df.duplicated().sum()"
      ],
      "outputs": [
        {
          "output_type": "execute_result",
          "data": {
            "text/plain": [
              "0"
            ]
          },
          "metadata": {},
          "execution_count": 266
        }
      ],
      "metadata": {
        "colab": {
          "base_uri": "https://localhost:8080/"
        },
        "id": "OlsuRwy-FI82",
        "outputId": "aad220a7-c09f-4a2b-c7da-e502ef5ea28b"
      }
    },
    {
      "cell_type": "markdown",
      "source": [
        "We also dont have any duplicate values"
      ],
      "metadata": {
        "id": "Q5JwCv0oFN_f"
      }
    },
    {
      "cell_type": "markdown",
      "source": [
        "## Data Exploration"
      ],
      "metadata": {
        "id": "A6BKjnu1FRpz"
      }
    },
    {
      "cell_type": "markdown",
      "source": [
        "### Data Distribution"
      ],
      "metadata": {
        "id": "tTICUgezFVbQ"
      }
    },
    {
      "cell_type": "code",
      "execution_count": 267,
      "source": [
        "# Distribution of numerical data\n",
        "attr_num = df[['age','creatinine_phosphokinase','ejection_fraction', 'platelets', 'serum_creatinine', 'serum_sodium', 'time']]\n",
        "\n",
        "#Graph\n",
        "warnings.simplefilter(action='ignore', category=FutureWarning)\n",
        "fig , ax = plt.subplots(2,3, figsize=(20,10))\n",
        "\n",
        "sns.distplot(attr_num['age'], ax=ax[0,0], color='red');\n",
        "sns.distplot(attr_num['creatinine_phosphokinase'], ax=ax[0,1], color='orange');\n",
        "sns.distplot(attr_num['ejection_fraction'], ax=ax[0,2], color='purple');\n",
        "sns.distplot(attr_num['platelets'], ax=ax[1,0], color='magenta');\n",
        "sns.distplot(attr_num['serum_creatinine'], ax=ax[1,1], color='blue');\n",
        "sns.distplot(attr_num['serum_sodium'], ax=ax[1,2], color='green');\n",
        "plt.show()\n",
        "\n",
        "sns.distplot(attr_num['time'], color='black');\n",
        "plt.show()"
      ],
      "outputs": [
        {
          "output_type": "display_data",
          "data": {
            "image/png": "[encoded data removed]",
            "text/plain": [
              "<Figure size 1440x720 with 6 Axes>"
            ]
          },
          "metadata": {
            "needs_background": "light"
          }
        },
        {
          "output_type": "display_data",
          "data": {
            "image/png": "[encoded data removed]",
            "text/plain": [
              "<Figure size 432x288 with 1 Axes>"
            ]
          },
          "metadata": {
            "needs_background": "light"
          }
        }
      ],
      "metadata": {
        "colab": {
          "base_uri": "https://localhost:8080/",
          "height": 872
        },
        "id": "B522oYaGFaaO",
        "outputId": "b34c55a5-4a3f-4fea-d86e-418af9dc9433"
      }
    },
    {
      "cell_type": "markdown",
      "source": [
        "From above data , almost all of numeric attributes tend to normally distributed but has some skeweness.\n",
        "\n",
        "For example the age attributes it has variance age between 40-95 years old but the most frequency of age who has Heart Failure is at range 50-70.\n",
        "\n",
        "Meanwhile we could see Level of the CPK enzyme in the blood of patient who has Heart Failer , has high variance between 0 - 8000. But, the data is mostly appear at CPK enzyme level range 0 - 250."
      ],
      "metadata": {
        "id": "HaIr5WUpM6Q_"
      }
    },
    {
      "cell_type": "code",
      "execution_count": 268,
      "source": [
        "# Distribution of categorical data\n",
        "attr_cat = df[[ 'anaemia','diabetes', 'high_blood_pressure', 'sex', 'smoking',  'DEATH_EVENT']]\n",
        "\n",
        "#Graph\n",
        "warnings.simplefilter(action='ignore', category=FutureWarning)\n",
        "fig , ax = plt.subplots(2,3, figsize=(20,10))\n",
        "\n",
        "sns.countplot(data=attr_cat, x=\"anaemia\", ax=ax[0,0], palette=\"Set3\");\n",
        "sns.countplot(data=attr_cat, x=\"diabetes\", ax=ax[0,1], palette=\"Paired\");\n",
        "sns.countplot(data=attr_cat, x=\"high_blood_pressure\", ax=ax[0,2], palette=\"husl\");\n",
        "sns.countplot(data=attr_cat, x=\"sex\", ax=ax[1,0], palette=\"hls\");\n",
        "sns.countplot(data=attr_cat, x=\"smoking\", ax=ax[1,1], palette=\"tab10\");\n",
        "sns.countplot(data=attr_cat, x=\"DEATH_EVENT\", ax=ax[1,2], palette=\"Set3\");"
      ],
      "outputs": [
        {
          "output_type": "display_data",
          "data": {
            "image/png": "[encoded data removed]",
            "text/plain": [
              "<Figure size 1440x720 with 6 Axes>"
            ]
          },
          "metadata": {
            "needs_background": "light"
          }
        }
      ],
      "metadata": {
        "colab": {
          "base_uri": "https://localhost:8080/",
          "height": 606
        },
        "id": "0amK7to6FTwd",
        "outputId": "430a49f0-080a-4322-a67d-91c779966958"
      }
    },
    {
      "cell_type": "markdown",
      "source": [
        "From above data , we could see man is tend to have heart failure than woman. Mostly who has heart failure is not a smoker or doesn't have anaemia or diabetes or hypertension.\n",
        "\n",
        "Meanwhile the death frequency beacuse of heart failure reach a half of the survived case."
      ],
      "metadata": {
        "id": "-XQSwUgiUAPF"
      }
    },
    {
      "cell_type": "markdown",
      "source": [
        "### Visualization"
      ],
      "metadata": {
        "id": "VEebGZbu3Hh5"
      }
    },
    {
      "cell_type": "markdown",
      "source": [
        "Here we want to find out the most mortality happened because heart failure."
      ],
      "metadata": {
        "id": "e6UdYMqKEGvq"
      }
    },
    {
      "cell_type": "code",
      "execution_count": 269,
      "source": [
        "#Query1\n",
        "q1 = df[[\"DEATH_EVENT\",\"sex\"]]\n",
        "\n",
        "plt.figure(figsize=(25,7));\n",
        "g1 =sns.countplot(data=q1, x=\"sex\",  palette=\"hls\", hue=\"DEATH_EVENT\")\n",
        "plt.legend(bbox_to_anchor=(1.02, 1), loc='upper left', borderaxespad=0 , labels=['Not Death', 'Death'])\n",
        "g1.set_xticklabels(['Woman', 'Man'])\n",
        "plt.xlabel(\"Gender\")\n",
        "plt.show()\n"
      ],
      "outputs": [
        {
          "output_type": "display_data",
          "data": {
            "image/png": "[encoded data removed]",
            "text/plain": [
              "<Figure size 1800x504 with 1 Axes>"
            ]
          },
          "metadata": {
            "needs_background": "light"
          }
        }
      ],
      "metadata": {
        "colab": {
          "base_uri": "https://localhost:8080/",
          "height": 370
        },
        "id": "K6gruR8O5LLe",
        "outputId": "84f65246-b058-41e0-e022-03b0934accd8"
      }
    },
    {
      "cell_type": "markdown",
      "source": [
        "We could conclude, mortality because heart failure is dominated by men."
      ],
      "metadata": {
        "id": "B3ek018UGvlC"
      }
    },
    {
      "cell_type": "code",
      "execution_count": 270,
      "source": [
        "#Query2\n",
        "q2 = df[[\"DEATH_EVENT\",\"age\"]]\n",
        "\n",
        "\n",
        "plt.figure(figsize=(25,7));\n",
        "g2 = sns.countplot(data=q2, x=\"age\",  palette=\"husl\", hue=\"DEATH_EVENT\")\n",
        "plt.legend(bbox_to_anchor=(1.02, 1), loc='upper left', borderaxespad=0, labels=['Not Death', 'Death'])\n",
        "g2.set_xticklabels(sorted(df['age'].unique().astype(int)))\n",
        "plt.xlabel(\"Age\")\n",
        "plt.show()\n"
      ],
      "outputs": [
        {
          "output_type": "display_data",
          "data": {
            "image/png": "[encoded data removed]",
            "text/plain": [
              "<Figure size 1800x504 with 1 Axes>"
            ]
          },
          "metadata": {
            "needs_background": "light"
          }
        }
      ],
      "metadata": {
        "colab": {
          "base_uri": "https://localhost:8080/",
          "height": 369
        },
        "id": "MLhGATiO6D0c",
        "outputId": "5a1f7042-c644-43fb-ec83-73802c592c09"
      }
    },
    {
      "cell_type": "markdown",
      "source": [
        "From above graph, we could see the most mortality is happened in age 60 . While in age above 85 , it almost possible to safe from heart failure."
      ],
      "metadata": {
        "id": "nN-bGXOjG5OK"
      }
    },
    {
      "cell_type": "code",
      "execution_count": 271,
      "source": [
        "#Query3\n",
        "q3 = df[[\"DEATH_EVENT\",\"smoking\"]]\n",
        "\n",
        "plt.figure(figsize=(25,7));\n",
        "g3 = sns.countplot(data=q3, x=\"smoking\",  palette=\"Paired\", hue=\"DEATH_EVENT\");\n",
        "plt.legend(bbox_to_anchor=(1.02, 1), loc='upper left', borderaxespad=0, labels=['Not Death', 'Death']);\n",
        "g3.set_xticklabels(['Non Smoker', 'Smoker'])\n",
        "plt.xlabel(\"Smoker\")\n",
        "plt.show()\n"
      ],
      "outputs": [
        {
          "output_type": "display_data",
          "data": {
            "image/png": "[encoded data removed]",
            "text/plain": [
              "<Figure size 1800x504 with 1 Axes>"
            ]
          },
          "metadata": {
            "needs_background": "light"
          }
        }
      ],
      "metadata": {
        "colab": {
          "base_uri": "https://localhost:8080/",
          "height": 370
        },
        "id": "qAoHOAf-6gPC",
        "outputId": "d933ffed-7e51-4a8d-84d9-f5d609a8bf56"
      }
    },
    {
      "cell_type": "markdown",
      "source": [
        "Mortality due to heart failure mostly happening to non smoker person.We could conclude, smoking might not affecting the mortality."
      ],
      "metadata": {
        "id": "1K4mLnKLIWZl"
      }
    },
    {
      "cell_type": "code",
      "execution_count": 272,
      "source": [
        "#query 4\n",
        "\n",
        "print(\"Total Death with Cormobid Disease : \",df[((df['anaemia'] == 1) | (df['diabetes'] == 1) | (df['high_blood_pressure'] == 1)) & (df[\"DEATH_EVENT\"] == 1)]\n",
        "      [[\"DEATH_EVENT\",\"anaemia\",\"diabetes\",\"high_blood_pressure\"]]['DEATH_EVENT'].count())\n",
        "print(\"Total Death                       : \", df[df[\"DEATH_EVENT\"] == 1][\"DEATH_EVENT\"].count())"
      ],
      "outputs": [
        {
          "output_type": "stream",
          "name": "stdout",
          "text": [
            "Total Death with Cormobid Disease :  77\n",
            "Total Death                       :  96\n"
          ]
        }
      ],
      "metadata": {
        "colab": {
          "base_uri": "https://localhost:8080/"
        },
        "id": "zg9Sfc2N6u89",
        "outputId": "f6e3a072-37c9-47bc-eb75-d9a925d3c8c6"
      }
    },
    {
      "cell_type": "markdown",
      "source": [
        "From above query, we could see there are 77 death because of heart failure from 96 which has some cormobid disease , either anaemie, diabetes or hypertension."
      ],
      "metadata": {
        "id": "xsHWrfG5JeN-"
      }
    },
    {
      "cell_type": "code",
      "execution_count": 273,
      "source": [
        "#Query 5\n",
        "df5 = df[df[\"DEATH_EVENT\"] ==1 ]\n",
        "\n",
        "plt.figure(figsize=(10,5))\n",
        "g5 = sns.scatterplot(data = df , x=\"age\", y= \"serum_creatinine\", hue=\"DEATH_EVENT\", palette=\"husl\")\n",
        "plt.legend(bbox_to_anchor=(1.02, 1), loc='upper left', borderaxespad=0, labels=['Not Death', 'Death']);\n",
        "plt.show()\n",
        "\n",
        "#Query 6\n",
        "df6 = df[df[\"DEATH_EVENT\"] ==1 ]\n",
        "\n",
        "plt.figure(figsize=(10,5))\n",
        "sns.scatterplot(data = df , x=\"age\", y= \"creatinine_phosphokinase\", hue=\"DEATH_EVENT\", palette='hls')\n",
        "plt.legend(bbox_to_anchor=(1.02, 1), loc='upper left', borderaxespad=0, labels=['Not Death', 'Death']);\n",
        "plt.show()"
      ],
      "outputs": [
        {
          "output_type": "display_data",
          "data": {
            "image/png": "[encoded data removed]",
            "text/plain": [
              "<Figure size 720x360 with 1 Axes>"
            ]
          },
          "metadata": {
            "needs_background": "light"
          }
        },
        {
          "output_type": "display_data",
          "data": {
            "image/png": "[encoded data removed]",
            "text/plain": [
              "<Figure size 720x360 with 1 Axes>"
            ]
          },
          "metadata": {
            "needs_background": "light"
          }
        }
      ],
      "metadata": {
        "colab": {
          "base_uri": "https://localhost:8080/",
          "height": 651
        },
        "id": "2p79qgfY-eam",
        "outputId": "4b6abb5e-abcc-422d-aba3-a52cfa66722c"
      }
    },
    {
      "cell_type": "markdown",
      "source": [
        "From above scater plot, we could see age is not much affecting the level of serum creatinine and creatinine phosphokinase human. \n",
        "\n",
        "But from death event tend to has high level serum creatinine . While creatinine phospokinase might not caused the death."
      ],
      "metadata": {
        "id": "sxD2NZQPK7Uz"
      }
    },
    {
      "cell_type": "code",
      "execution_count": 274,
      "source": [
        "#Boxplot age\n",
        "plt.boxplot(df['age'])\n",
        "plt.title(\"Age\")\n",
        "plt.show()\n",
        "\n",
        "#Boxplot serum creatinine\n",
        "plt.boxplot(df['serum_creatinine'])\n",
        "plt.title(\"Serum Creatinine\")\n",
        "plt.show()\n",
        "\n",
        "#Boxplot creatinine phosphokinase\n",
        "plt.boxplot(df['creatinine_phosphokinase'])\n",
        "plt.title(\"Creatinine Phosphokinase\")\n",
        "plt.show()"
      ],
      "outputs": [
        {
          "output_type": "display_data",
          "data": {
            "image/png": "[encoded data removed]",
            "text/plain": [
              "<Figure size 432x288 with 1 Axes>"
            ]
          },
          "metadata": {
            "needs_background": "light"
          }
        },
        {
          "output_type": "display_data",
          "data": {
            "image/png": "[encoded data removed]",
            "text/plain": [
              "<Figure size 432x288 with 1 Axes>"
            ]
          },
          "metadata": {
            "needs_background": "light"
          }
        },
        {
          "output_type": "display_data",
          "data": {
            "image/png": "[encoded data removed]",
            "text/plain": [
              "<Figure size 432x288 with 1 Axes>"
            ]
          },
          "metadata": {
            "needs_background": "light"
          }
        }
      ],
      "metadata": {
        "colab": {
          "base_uri": "https://localhost:8080/",
          "height": 809
        },
        "id": "cnX-Mh5JthGg",
        "outputId": "e5814e5d-5ac9-4963-881a-df2c1605eeb0"
      }
    },
    {
      "cell_type": "markdown",
      "source": [
        "From above boxplot, we could conclude that people with heart failure is distributed well from age perspective.\n",
        "\n",
        "While from level of Serum Creatinine and Creatinine Phosphokinase, there are some outlier in dataset. It might some odd event from human body which might happend in real life."
      ],
      "metadata": {
        "id": "2eO8IExjSAuc"
      }
    },
    {
      "cell_type": "markdown",
      "source": [
        "## Data PreProcessing"
      ],
      "metadata": {
        "id": "nGp7JN6RWMW2"
      }
    },
    {
      "cell_type": "markdown",
      "source": [
        "### Feature Selection\n",
        "\n",
        "Since all the attributes in dataset already has numeric value, here we will decide the feature used in model using correlation between the features against the target data.\n",
        "\n",
        "Our target data is DEATH_EVENT and features is the rest attributes."
      ],
      "metadata": {
        "id": "raC9fEzlZ7Jw"
      }
    },
    {
      "cell_type": "code",
      "execution_count": 275,
      "source": [
        "#Calculate correlation\n",
        "corr = df.corr()\n",
        "\n",
        "#Graph\n",
        "plt.figure(figsize=(14,7))\n",
        "sns.heatmap(corr,cmap=\"BuPu\",annot=True);\n",
        "plt.show()"
      ],
      "outputs": [
        {
          "output_type": "display_data",
          "data": {
            "image/png": "[encoded data removed]",
            "text/plain": [
              "<Figure size 1008x504 with 2 Axes>"
            ]
          },
          "metadata": {
            "needs_background": "light"
          }
        }
      ],
      "metadata": {
        "colab": {
          "base_uri": "https://localhost:8080/",
          "height": 553
        },
        "id": "lHgTnF6FP8Tz",
        "outputId": "23dd7a43-9490-42de-ca0c-288ef3e00bd5"
      }
    },
    {
      "cell_type": "markdown",
      "source": [
        "Above heatmap tell us the correlation between attributes in dataset. We could see age and serum_creatinine has high correlation with DEATH_EVENT followed by anaemia, creatinine_phospokinase and high_blood_pressure\n",
        "\n",
        "So we will ignore the rest features who has minus correlation with DEATH EVENT later for our modeling and use these 5 features with top correlation :\n",
        "\n",
        "1. age\n",
        "2. serum_creatinine\n",
        "3. anaemia\n",
        "4. creatinine_phosphokinase\n",
        "5. high_blood_pressure\n"
      ],
      "metadata": {
        "id": "P7VLUPBofiKk"
      }
    },
    {
      "cell_type": "markdown",
      "source": [
        "### Split Data\n",
        "\n",
        "For our modelling, we will use 2 type of split data : \n",
        "1. split the data become train set, evaluation set and test set with proportion 10% of dataset become test set while 20% from training set become eval set.\n",
        "2. 90% of data becomes our cross validation purposed."
      ],
      "metadata": {
        "id": "2KC6cgA0gjpG"
      }
    },
    {
      "cell_type": "code",
      "execution_count": 276,
      "source": [
        "#Final dataframe for modeling\n",
        "df_model = df[[\"age\",\"serum_creatinine\", \"anaemia\", \"creatinine_phosphokinase\",\"high_blood_pressure\" ,\"DEATH_EVENT\"]]\n",
        "\n",
        "#split data to train ,test and sample\n",
        "datamodel , test_df = train_test_split(df_model, test_size=0.1, random_state=2,  shuffle=True , stratify=df_model['DEATH_EVENT'])\n",
        "train_df , eval_df = train_test_split(datamodel, test_size=0.2, random_state=4 , shuffle=True , stratify=datamodel['DEATH_EVENT'])\n",
        "\n",
        "test_df = test_df.reset_index(drop=True)\n",
        "train_df = train_df.reset_index(drop=True)\n",
        "eval_df = eval_df.reset_index(drop=True)\n",
        "\n",
        "print(\"Total of training data   : \", train_df.shape[0])\n",
        "print(\"Total of evaluation data : \", eval_df.shape[0])\n",
        "print(\"Total of testing  data   : \", test_df.shape[0])\n",
        "print(\"Total cv data            : \", datamodel.shape[0])"
      ],
      "outputs": [
        {
          "output_type": "stream",
          "name": "stdout",
          "text": [
            "Total of training data   :  215\n",
            "Total of evaluation data :  54\n",
            "Total of testing  data   :  30\n",
            "Total cv data            :  269\n"
          ]
        }
      ],
      "metadata": {
        "colab": {
          "base_uri": "https://localhost:8080/"
        },
        "id": "IvGY4hyNacmm",
        "outputId": "d2cfcc9c-4fb3-44bd-b580-bd7243bc2d0e"
      }
    },
    {
      "cell_type": "markdown",
      "source": [
        "We have 215 data for training set, 54 data for evaluation set and 30 data for testing set and also 269 data for cross validation purposes."
      ],
      "metadata": {
        "id": "wX4yQEGNhN-P"
      }
    },
    {
      "cell_type": "markdown",
      "source": [
        "### Divide Dataset Features and Target"
      ],
      "metadata": {
        "id": "HVVwQZX8pnu3"
      }
    },
    {
      "cell_type": "code",
      "execution_count": 277,
      "source": [
        "#split data from its feature and target for training data\n",
        "X_train_us = train_df.drop(['DEATH_EVENT'], axis=1)\n",
        "y_train = pd.DataFrame(train_df['DEATH_EVENT'],columns=['DEATH_EVENT'])\n",
        "\n",
        "#split data from its feature and target for eval data \n",
        "X_eval_us = eval_df.drop(['DEATH_EVENT'], axis=1)\n",
        "y_eval = pd.DataFrame(eval_df['DEATH_EVENT'], columns=['DEATH_EVENT'])\n",
        "\n",
        "#split data from its feature and target for datamodel\n",
        "X_datamodel_us = datamodel.drop(['DEATH_EVENT'], axis=1)\n",
        "y_datamodel = pd.DataFrame(datamodel['DEATH_EVENT'], columns=['DEATH_EVENT'])"
      ],
      "outputs": [],
      "metadata": {
        "id": "ih6MY0IRkde4"
      }
    },
    {
      "cell_type": "markdown",
      "source": [
        "### Scaling Data"
      ],
      "metadata": {
        "id": "eBijhOW-hVxl"
      }
    },
    {
      "cell_type": "code",
      "execution_count": 278,
      "source": [
        "#define scaler for data\n",
        "f_scaler = MinMaxScaler()\n",
        "cv_scaler = MinMaxScaler()\n",
        "\n",
        "#fit the scaling\n",
        "f_scaler.fit(X_train_us)\n",
        "\n",
        "#Transform train data\n",
        "X_train = pd.DataFrame(f_scaler.transform(X_train_us), columns=X_train_us.columns)\n",
        "\n",
        "#Transform eval data\n",
        "X_eval = pd.DataFrame(f_scaler.transform(X_eval_us), columns=X_eval_us.columns)\n",
        "\n",
        "#Transform eval data\n",
        "X_datamodel = pd.DataFrame(cv_scaler.fit_transform(X_datamodel_us), columns=X_datamodel_us.columns)\n"
      ],
      "outputs": [],
      "metadata": {
        "id": "ViuypMsEhBw1"
      }
    },
    {
      "cell_type": "markdown",
      "source": [
        "## Model Definition\n",
        "\n",
        "In this section, we will define our model data. At previous Data Preprocessing we already have 5 features and 1 target of data to process. And also we've already split the dataset to train and test data. Features are the variable/column that might give an effect to our target variable. Below are our target data and features.\n",
        "\n",
        "Target    : DEATH_EVENT <br>\n",
        "\n",
        "Features :\n",
        "1. age\n",
        "2. serum_creatinine\n",
        "3. anaemia\n",
        "4. creatinine_phosphokinase\n",
        "5. high_blood_pressure\n",
        "\n",
        "As our goals to predict mortality caused by Heart Failure, we will use Classification for our modeling. But here we will try to make several option of model and find out the best model that fit our expectation.\n",
        "\n",
        "We decide to take some example of Classification model and its Tunning Version then compared these to choose the best model :\n",
        "1. Model 1 : Random Forest\n",
        "2. Model 2 : Bagging Decision Tree\n",
        "3. Model 3 : Bagging Random Forest\n",
        "4. Model 4 : Bagging SVC\n",
        "5. Model 5 : AdaBoosting\n",
        "6. Model 6 : AdaBoosting SVC\n",
        "7. Model 7 : AdaBoosting Decision Tree\n",
        "8. Model 8 : AdaBoosting RandomForest\n",
        "9. Model 9 : Gradient Boosting"
      ],
      "metadata": {
        "id": "Kf2z62WDqoXU"
      }
    },
    {
      "cell_type": "markdown",
      "source": [
        "### Model 1 : Random Forest"
      ],
      "metadata": {
        "id": "uHnEdhwGrTJz"
      }
    },
    {
      "cell_type": "markdown",
      "source": [
        "#### Model Definition\n"
      ],
      "metadata": {
        "id": "6xPzb7uAR3I_"
      }
    },
    {
      "cell_type": "code",
      "execution_count": 279,
      "source": [
        "#Define the model\n",
        "rnd_fr = RandomForestClassifier(n_estimators=100, max_leaf_nodes=8 ,random_state=42)"
      ],
      "outputs": [],
      "metadata": {
        "id": "zjXMpuM0SOuc"
      }
    },
    {
      "cell_type": "markdown",
      "source": [
        "#### Model Training"
      ],
      "metadata": {
        "id": "kYBTJ3DPR6yS"
      }
    },
    {
      "cell_type": "code",
      "execution_count": 280,
      "source": [
        "#train the model with our data train\n",
        "rnd_fr.fit(X_train, y_train['DEATH_EVENT'])\n",
        "\n",
        "#predict against train data\n",
        "y_train_p1 = pd.DataFrame(rnd_fr.predict(X_train),columns=[\"pred_DEATH_EVENT\"])\n",
        "\n",
        "#predict against test data\n",
        "y_eval_p1 = pd.DataFrame(rnd_fr.predict(X_eval),columns=[\"pred_DEATH_EVENT\"])\n",
        "\n",
        "# Train model using cross-validation \n",
        "skf = StratifiedKFold(n_splits=5, random_state=42)\n",
        "rnd_fr_val_scores = cross_val_score(rnd_fr, X_datamodel , y_datamodel[\"DEATH_EVENT\"], cv=skf)\n"
      ],
      "outputs": [],
      "metadata": {
        "id": "DSYINgvLqK0P"
      }
    },
    {
      "cell_type": "markdown",
      "source": [
        "#### Model Evaluation"
      ],
      "metadata": {
        "id": "rXIMGz24R3HA"
      }
    },
    {
      "cell_type": "code",
      "execution_count": 282,
      "source": [
        "#Check accuracy\n",
        "acc_train1 = accuracy_score(y_train, y_train_p1)\n",
        "acc_eval1 = accuracy_score(y_eval, y_eval_p1)\n",
        "acc_cv1 = (np.mean(rnd_fr_val_scores))\n",
        "\n",
        "print(\"Accuracy Train Score :\",acc_train1)\n",
        "print(\"Accuracy Eval        :\",acc_eval1)\n",
        "print(\"Accuracy Train CV    :\",acc_cv1)"
      ],
      "outputs": [
        {
          "output_type": "stream",
          "name": "stdout",
          "text": [
            "Accuracy Train Score : 0.8186046511627907\n",
            "Accuracy Eval        : 0.7777777777777778\n",
            "Accuracy Train CV    : 0.7397624039133472\n"
          ]
        }
      ],
      "metadata": {
        "colab": {
          "base_uri": "https://localhost:8080/"
        },
        "id": "udczjoD7vsnI",
        "outputId": "4eefba29-6df6-4bba-fbb0-b460bfe2779f"
      }
    },
    {
      "cell_type": "markdown",
      "source": [
        "Random Forest has fair accuracy for evaluation data and it's cross validation accuracy almost same with the eval data."
      ],
      "metadata": {
        "id": "7hSJck-kNJQM"
      }
    },
    {
      "cell_type": "markdown",
      "source": [
        "### Model 2 : Bagging Decision Tree"
      ],
      "metadata": {
        "id": "9fDzQDba_SgC"
      }
    },
    {
      "cell_type": "markdown",
      "source": [
        "#### Model Definition\n"
      ],
      "metadata": {
        "id": "fqsvy5ZjSHEU"
      }
    },
    {
      "cell_type": "code",
      "execution_count": 283,
      "source": [
        "#Define the model\n",
        "bag_dct = BaggingClassifier(\n",
        "    DecisionTreeClassifier(criterion=\"gini\", max_depth=8),\n",
        "    n_estimators=100, random_state=42)"
      ],
      "outputs": [],
      "metadata": {
        "id": "VH4ewEHzST2k"
      }
    },
    {
      "cell_type": "markdown",
      "source": [
        "#### Model Training"
      ],
      "metadata": {
        "id": "0BEGelgwSHEU"
      }
    },
    {
      "cell_type": "code",
      "execution_count": 284,
      "source": [
        "#train the model with our data train\n",
        "bag_dct.fit(X_train, y_train['DEATH_EVENT'])\n",
        "\n",
        "#predict against train data\n",
        "y_train_p2 = pd.DataFrame(bag_dct.predict(X_train),columns=[\"pred_DEATH_EVENT\"])\n",
        "\n",
        "#predict against test data\n",
        "y_eval_p2 = pd.DataFrame(bag_dct.predict(X_eval),columns=[\"pred_DEATH_EVENT\"])\n",
        "\n",
        "# Train model using cross-validation \n",
        "skf = StratifiedKFold(n_splits=5, random_state=42)\n",
        "bag_dct_val_scores = cross_val_score(bag_dct, X_datamodel , y_datamodel[\"DEATH_EVENT\"], cv=skf)\n",
        "\n"
      ],
      "outputs": [],
      "metadata": {
        "id": "Quv1xatm_WW4"
      }
    },
    {
      "cell_type": "markdown",
      "source": [
        "#### Model Evaluation"
      ],
      "metadata": {
        "id": "WmonOPccSHEU"
      }
    },
    {
      "cell_type": "code",
      "execution_count": 285,
      "source": [
        "#Check accuracy\n",
        "acc_train2 = accuracy_score(y_train, y_train_p2)\n",
        "acc_eval2 = accuracy_score(y_eval, y_eval_p2)\n",
        "acc_cv2 = (np.mean(bag_dct_val_scores))\n",
        "\n",
        "print(\"Accuracy Train Score :\",acc_train2)\n",
        "print(\"Accuracy Eval        :\",acc_eval2)\n",
        "print(\"Accuracy Train CV    :\",acc_cv2)"
      ],
      "outputs": [
        {
          "output_type": "stream",
          "name": "stdout",
          "text": [
            "Accuracy Train Score : 0.9395348837209302\n",
            "Accuracy Eval        : 0.7777777777777778\n",
            "Accuracy Train CV    : 0.7062893081761007\n"
          ]
        }
      ],
      "metadata": {
        "colab": {
          "base_uri": "https://localhost:8080/"
        },
        "id": "ZQLjBQMO_WOW",
        "outputId": "d23bfa11-c818-46be-d310-d987573c4c38"
      }
    },
    {
      "cell_type": "markdown",
      "source": [
        "Bagging Decision Tree has good accuracy in trian , but it has low accuracy in eval. It tend to overfit .\n",
        "\n",
        "From cross validation perspective it has same accuracy with RandomForest."
      ],
      "metadata": {
        "id": "cK0myCwkNTNR"
      }
    },
    {
      "cell_type": "markdown",
      "source": [
        "### Model 3 : Bagging Random Forest"
      ],
      "metadata": {
        "id": "agsuZPZRAdt2"
      }
    },
    {
      "cell_type": "markdown",
      "source": [
        "#### Model Definition\n"
      ],
      "metadata": {
        "id": "iKO1aMr8SICe"
      }
    },
    {
      "cell_type": "code",
      "execution_count": 286,
      "source": [
        "#Define the model\n",
        "bag_rfs = BaggingClassifier(\n",
        "    RandomForestClassifier(max_leaf_nodes=8),\n",
        "    n_estimators=100, random_state=42, oob_score=True)"
      ],
      "outputs": [],
      "metadata": {
        "id": "J8jPRY7lSWoe"
      }
    },
    {
      "cell_type": "markdown",
      "source": [
        "#### Model Training"
      ],
      "metadata": {
        "id": "idwx19SkSICe"
      }
    },
    {
      "cell_type": "code",
      "execution_count": 287,
      "source": [
        "#train the model with our data train\n",
        "bag_rfs.fit(X_train, y_train['DEATH_EVENT'])\n",
        "\n",
        "#predict against train data\n",
        "y_train_p3 = pd.DataFrame(bag_rfs.predict(X_train),columns=[\"pred_DEATH_EVENT\"])\n",
        "\n",
        "#predict against test data\n",
        "y_eval_p3 = pd.DataFrame(bag_rfs.predict(X_eval),columns=[\"pred_DEATH_EVENT\"])\n",
        "\n",
        "# Train model using cross-validation \n",
        "skf = StratifiedKFold(n_splits=5, random_state=42)\n",
        "bag_rfs_val_scores = cross_val_score(bag_rfs,  X_datamodel , y_datamodel[\"DEATH_EVENT\"], cv=skf)\n",
        "\n"
      ],
      "outputs": [],
      "metadata": {
        "id": "MmokAigKAjp6"
      }
    },
    {
      "cell_type": "markdown",
      "source": [
        "#### Model Evaluation"
      ],
      "metadata": {
        "id": "r7tcuCorSICe"
      }
    },
    {
      "cell_type": "code",
      "execution_count": 288,
      "source": [
        "#Check accuracy\n",
        "acc_train3 = accuracy_score(y_train, y_train_p3)\n",
        "acc_eval3 = accuracy_score(y_eval, y_eval_p3)\n",
        "acc_cv3 = (np.mean(bag_rfs_val_scores))\n",
        "\n",
        "print(\"Accuracy Train Score :\",acc_train3)\n",
        "print(\"Accuracy Eval        :\",acc_eval3)\n",
        "print(\"Accuracy Train CV    :\",acc_cv3)"
      ],
      "outputs": [
        {
          "output_type": "stream",
          "name": "stdout",
          "text": [
            "Accuracy Train Score : 0.7953488372093023\n",
            "Accuracy Eval        : 0.7962962962962963\n",
            "Accuracy Train CV    : 0.7322152341020265\n"
          ]
        }
      ],
      "metadata": {
        "colab": {
          "base_uri": "https://localhost:8080/"
        },
        "id": "rnWd42CRAjfy",
        "outputId": "315c8da3-9850-45b8-cf73-73d57d94ce43"
      }
    },
    {
      "cell_type": "markdown",
      "source": [
        "Eventhough Bagging RandomForest doesnt have high acccuracy, between train , eval and cross validation accuracy it tend to same and more stable."
      ],
      "metadata": {
        "id": "YnSbJ4kzNv6j"
      }
    },
    {
      "cell_type": "markdown",
      "source": [
        "### Model 4 : Bagging SVC"
      ],
      "metadata": {
        "id": "V4zODTyrHw8z"
      }
    },
    {
      "cell_type": "markdown",
      "source": [
        "#### Model Definition\n"
      ],
      "metadata": {
        "id": "Gbkrf0y-SI_N"
      }
    },
    {
      "cell_type": "code",
      "execution_count": 289,
      "source": [
        "#Define the model\n",
        "bag_svc = BaggingClassifier(\n",
        "    SVC(probability=True, kernel='rbf',C=0.001),\n",
        "    n_estimators=100, random_state=42)"
      ],
      "outputs": [],
      "metadata": {
        "id": "5UzJU9ezS5rH"
      }
    },
    {
      "cell_type": "markdown",
      "source": [
        "#### Model Training"
      ],
      "metadata": {
        "id": "K-sTr7nLSI_N"
      }
    },
    {
      "cell_type": "code",
      "execution_count": 290,
      "source": [
        "#train the model with our data train\n",
        "bag_svc.fit(X_train, y_train['DEATH_EVENT'])\n",
        "\n",
        "#predict against train data\n",
        "y_train_p4 = pd.DataFrame(bag_svc.predict(X_train),columns=[\"pred_DEATH_EVENT\"])\n",
        "\n",
        "#predict against test data\n",
        "y_eval_p4 = pd.DataFrame(bag_svc.predict(X_eval),columns=[\"pred_DEATH_EVENT\"])\n",
        "\n",
        "# Train model using cross-validation \n",
        "skf = StratifiedKFold(n_splits=5, random_state=42)\n",
        "bag_svc_val_scores = cross_val_score(bag_svc,  X_datamodel , y_datamodel[\"DEATH_EVENT\"], cv=skf)\n",
        "\n"
      ],
      "outputs": [],
      "metadata": {
        "id": "JG40CjEKHwGE"
      }
    },
    {
      "cell_type": "markdown",
      "source": [
        "#### Model Evaluation"
      ],
      "metadata": {
        "id": "6dQ-1wf3SI_N"
      }
    },
    {
      "cell_type": "code",
      "execution_count": 291,
      "source": [
        "#Check accuracy\n",
        "acc_train4 = accuracy_score(y_train, y_train_p4)\n",
        "acc_eval4 = accuracy_score(y_eval, y_eval_p4)\n",
        "acc_cv4 = (np.mean(bag_svc_val_scores))\n",
        "\n",
        "print(\"Accuracy Train Score :\",acc_train4)\n",
        "print(\"Accuracy Eval        :\",acc_eval4)\n",
        "print(\"Accuracy Train CV    :\",acc_cv4)\n"
      ],
      "outputs": [
        {
          "output_type": "stream",
          "name": "stdout",
          "text": [
            "Accuracy Train Score : 0.6976744186046512\n",
            "Accuracy Eval        : 0.7037037037037037\n",
            "Accuracy Train CV    : 0.6839972047519217\n"
          ]
        }
      ],
      "metadata": {
        "colab": {
          "base_uri": "https://localhost:8080/"
        },
        "id": "DHHkbn6wH0uZ",
        "outputId": "09add0c3-8478-4ca5-d442-d353df632be3"
      }
    },
    {
      "cell_type": "markdown",
      "source": [
        "Same with Bagging Random Forest, Bagging SVC tend to have stable accuracy but it's worse than bagging random forest."
      ],
      "metadata": {
        "id": "IFWKxV6eN0JL"
      }
    },
    {
      "cell_type": "markdown",
      "source": [
        "### Model 5 : AdaBoosting"
      ],
      "metadata": {
        "id": "gtSkqx1XIJp2"
      }
    },
    {
      "cell_type": "markdown",
      "source": [
        "#### Model Definition\n"
      ],
      "metadata": {
        "id": "oGzY2v_NSJuV"
      }
    },
    {
      "cell_type": "code",
      "execution_count": 292,
      "source": [
        "#Define the model\n",
        "ad = AdaBoostClassifier(n_estimators=100, random_state=42)\n"
      ],
      "outputs": [],
      "metadata": {
        "id": "hKUChAAhS8-q"
      }
    },
    {
      "cell_type": "markdown",
      "source": [
        "#### Model Training"
      ],
      "metadata": {
        "id": "HsKdiPOcSJuV"
      }
    },
    {
      "cell_type": "code",
      "execution_count": 293,
      "source": [
        "#train the model with our data train\n",
        "ad.fit(X_train, y_train['DEATH_EVENT'])\n",
        "\n",
        "#predict against train data\n",
        "y_train_p5 = pd.DataFrame(ad.predict(X_train),columns=[\"pred_DEATH_EVENT\"])\n",
        "\n",
        "#predict against test data\n",
        "y_eval_p5 = pd.DataFrame(ad.predict(X_eval),columns=[\"pred_DEATH_EVENT\"])\n",
        "\n",
        "# Train model using cross-validation \n",
        "skf = StratifiedKFold(n_splits=5, random_state=42)\n",
        "ad_val_scores = cross_val_score(ad,  X_datamodel , y_datamodel[\"DEATH_EVENT\"], cv=skf)\n",
        "\n"
      ],
      "outputs": [],
      "metadata": {
        "id": "Yam6DbTwIM51"
      }
    },
    {
      "cell_type": "markdown",
      "source": [
        "#### Model Evaluation"
      ],
      "metadata": {
        "id": "amiwqmKASJuV"
      }
    },
    {
      "cell_type": "code",
      "execution_count": 294,
      "source": [
        "#Check accuracy\n",
        "acc_train5 = accuracy_score(y_train, y_train_p5)\n",
        "acc_eval5 = accuracy_score(y_eval, y_eval_p5)\n",
        "acc_cv5 = (np.mean(ad_val_scores))\n",
        "\n",
        "print(\"Accuracy Train Score :\",acc_train5)\n",
        "print(\"Accuracy Eval        :\",acc_eval5)\n",
        "print(\"Accuracy Train CV    :\",acc_cv5)\n"
      ],
      "outputs": [
        {
          "output_type": "stream",
          "name": "stdout",
          "text": [
            "Accuracy Train Score : 0.8744186046511628\n",
            "Accuracy Eval        : 0.7222222222222222\n",
            "Accuracy Train CV    : 0.6988819007686933\n"
          ]
        }
      ],
      "metadata": {
        "colab": {
          "base_uri": "https://localhost:8080/"
        },
        "id": "D6B9UzSOINSI",
        "outputId": "7a8a29ab-9855-4e25-9f23-8837b4e44628"
      }
    },
    {
      "cell_type": "markdown",
      "source": [
        "AdaBoosting tend to overfit and the accuracy is decreasing in cross validation."
      ],
      "metadata": {
        "id": "e5KEdIluN9-U"
      }
    },
    {
      "cell_type": "markdown",
      "source": [
        "### Model 6 : AdaBoosting with SVC"
      ],
      "metadata": {
        "id": "UL19j02oriRr"
      }
    },
    {
      "cell_type": "markdown",
      "source": [
        "#### Model Definition\n"
      ],
      "metadata": {
        "id": "8wQsswXASKlQ"
      }
    },
    {
      "cell_type": "code",
      "execution_count": 295,
      "source": [
        "#Define the model \n",
        "svc = SVC(probability=True, kernel='rbf')\n",
        "adbc = AdaBoostClassifier(n_estimators=100, base_estimator=svc ,learning_rate=0.01, random_state=42)"
      ],
      "outputs": [],
      "metadata": {
        "id": "UMzbKzBcTAat"
      }
    },
    {
      "cell_type": "markdown",
      "source": [
        "#### Model Training"
      ],
      "metadata": {
        "id": "ZQlxypvlSKlQ"
      }
    },
    {
      "cell_type": "code",
      "execution_count": 296,
      "source": [
        "#train the model with our data train\n",
        "adbc.fit(X_train, y_train['DEATH_EVENT'])\n",
        "\n",
        "#predict against train data\n",
        "y_train_p6 = pd.DataFrame(adbc.predict(X_train),columns=[\"pred_DEATH_EVENT\"])\n",
        "\n",
        "#predict against test data\n",
        "y_eval_p6 = pd.DataFrame(adbc.predict(X_eval),columns=[\"pred_DEATH_EVENT\"])\n",
        "\n",
        "# Train model using cross-validation \n",
        "skf = StratifiedKFold(n_splits=5, random_state=42)\n",
        "adbc_val_scores = cross_val_score(adbc,  X_datamodel , y_datamodel[\"DEATH_EVENT\"], cv=skf)\n"
      ],
      "outputs": [],
      "metadata": {
        "id": "3e8EF8XJrkzH"
      }
    },
    {
      "cell_type": "markdown",
      "source": [
        "#### Model Evaluation"
      ],
      "metadata": {
        "id": "_vWpOIbySKlQ"
      }
    },
    {
      "cell_type": "code",
      "execution_count": 297,
      "source": [
        "#Check accuracy\n",
        "acc_train6 = accuracy_score(y_train, y_train_p6)\n",
        "acc_eval6 = accuracy_score(y_eval, y_eval_p6)\n",
        "acc_cv6 = (np.mean(adbc_val_scores))\n",
        "\n",
        "print(\"Accuracy Train Score :\",acc_train6)\n",
        "print(\"Accuracy Eval        :\",acc_eval6)\n",
        "print(\"Accuracy Train CV    :\",acc_cv6)"
      ],
      "outputs": [
        {
          "output_type": "stream",
          "name": "stdout",
          "text": [
            "Accuracy Train Score : 0.6837209302325581\n",
            "Accuracy Eval        : 0.7037037037037037\n",
            "Accuracy Train CV    : 0.6877009084556255\n"
          ]
        }
      ],
      "metadata": {
        "colab": {
          "base_uri": "https://localhost:8080/"
        },
        "id": "H_b_9wG7xEbx",
        "outputId": "8d6e44dc-6920-4cfd-ff95-79ac6c24b73d"
      }
    },
    {
      "cell_type": "markdown",
      "source": [
        "AdaBoosting with SVC, doesnt have high accuracy , but it has great accuray in eval set means this model learns well before."
      ],
      "metadata": {
        "id": "XVUktRL0OSNo"
      }
    },
    {
      "cell_type": "markdown",
      "source": [
        "### Model 7 : AdaBoosting with Decision Tree"
      ],
      "metadata": {
        "id": "oK9_U_G6xiKx"
      }
    },
    {
      "cell_type": "markdown",
      "source": [
        "#### Model Definition\n"
      ],
      "metadata": {
        "id": "_yhoIjXjSLSw"
      }
    },
    {
      "cell_type": "code",
      "execution_count": 298,
      "source": [
        "#Define the model \n",
        "dct = DecisionTreeClassifier(criterion=\"gini\", max_depth=8,random_state= 42)\n",
        "ad_dct = AdaBoostClassifier(n_estimators=100, base_estimator=dct ,learning_rate=0.01)\n"
      ],
      "outputs": [],
      "metadata": {
        "id": "iynyP7tqTEyg"
      }
    },
    {
      "cell_type": "markdown",
      "source": [
        "#### Model Training"
      ],
      "metadata": {
        "id": "o5Rdc6a0SLSw"
      }
    },
    {
      "cell_type": "code",
      "execution_count": 299,
      "source": [
        "#train the model with our data train\n",
        "ad_dct.fit(X_train, y_train['DEATH_EVENT'])\n",
        "\n",
        "#predict against train data\n",
        "y_train_p7 = pd.DataFrame(ad_dct.predict(X_train),columns=[\"pred_DEATH_EVENT\"])\n",
        "\n",
        "#predict against test data\n",
        "y_eval_p7 = pd.DataFrame(ad_dct.predict(X_eval),columns=[\"pred_DEATH_EVENT\"])\n",
        "\n",
        "# Train model using cross-validation \n",
        "skf = StratifiedKFold(n_splits=5, random_state=42)\n",
        "ad_dct_val_scores = cross_val_score(ad_dct,  X_datamodel , y_datamodel[\"DEATH_EVENT\"], cv=skf)\n",
        "\n"
      ],
      "outputs": [],
      "metadata": {
        "id": "ndw9Jid6xGd0"
      }
    },
    {
      "cell_type": "markdown",
      "source": [
        "#### Model Evaluation"
      ],
      "metadata": {
        "id": "ot9tEywNSLSx"
      }
    },
    {
      "cell_type": "code",
      "execution_count": 300,
      "source": [
        "#Check accuracy\n",
        "acc_train7 = accuracy_score(y_train, y_train_p7)\n",
        "acc_eval7 = accuracy_score(y_eval, y_eval_p7)\n",
        "acc_cv7 = (np.mean(ad_dct_val_scores))\n",
        "\n",
        "print(\"Accuracy Train Score :\",acc_train7)\n",
        "print(\"Accuracy Eval        :\",acc_eval7)\n",
        "print(\"Accuracy Train CV    :\",acc_cv7)"
      ],
      "outputs": [
        {
          "output_type": "stream",
          "name": "stdout",
          "text": [
            "Accuracy Train Score : 0.9953488372093023\n",
            "Accuracy Eval        : 0.7592592592592593\n",
            "Accuracy Train CV    : 0.6580712788259958\n"
          ]
        }
      ],
      "metadata": {
        "colab": {
          "base_uri": "https://localhost:8080/"
        },
        "id": "7iNmNS9NxyGC",
        "outputId": "26d6b561-2173-48db-c5b0-885f9a3272e4"
      }
    },
    {
      "cell_type": "markdown",
      "source": [
        "AdaBoosting Decision Tree is too overfit because the accuracy of train data is far away better from its eval and cross valuation and it's not good for the model."
      ],
      "metadata": {
        "id": "3Ty_IyfAOcvl"
      }
    },
    {
      "cell_type": "markdown",
      "source": [
        "### Model 8 : AdaBoosting with RandomForest"
      ],
      "metadata": {
        "id": "JI6bFebwNLnE"
      }
    },
    {
      "cell_type": "markdown",
      "source": [
        "#### Model Definition\n"
      ],
      "metadata": {
        "id": "T7CK8j0FSL4k"
      }
    },
    {
      "cell_type": "code",
      "execution_count": 301,
      "source": [
        "#Define the model \n",
        "rnd_fr1 = RandomForestClassifier(max_leaf_nodes=8 ,random_state=42)\n",
        "ad_rfs = AdaBoostClassifier(n_estimators=100, base_estimator=rnd_fr1 ,learning_rate=0.01)"
      ],
      "outputs": [],
      "metadata": {
        "id": "ggTjR3-VTI4K"
      }
    },
    {
      "cell_type": "markdown",
      "source": [
        "#### Model Training"
      ],
      "metadata": {
        "id": "WsUXHNGGSL4l"
      }
    },
    {
      "cell_type": "code",
      "execution_count": 302,
      "source": [
        "#train the model with our data train\n",
        "ad_rfs.fit(X_train, y_train['DEATH_EVENT'])\n",
        "\n",
        "#predict against train data\n",
        "y_train_p8 = pd.DataFrame(ad_rfs.predict(X_train),columns=[\"pred_DEATH_EVENT\"])\n",
        "\n",
        "#predict against test data\n",
        "y_eval_p8 = pd.DataFrame(ad_rfs.predict(X_eval),columns=[\"pred_DEATH_EVENT\"])\n",
        "\n",
        "# Train model using cross-validation \n",
        "skf = StratifiedKFold(n_splits=5, random_state=42)\n",
        "ad_rfs_val_scores = cross_val_score(ad_rfs,  X_datamodel , y_datamodel[\"DEATH_EVENT\"], cv=skf)\n",
        "\n"
      ],
      "outputs": [],
      "metadata": {
        "id": "dzpfyVHlNMmj"
      }
    },
    {
      "cell_type": "markdown",
      "source": [
        "#### Model Evaluation"
      ],
      "metadata": {
        "id": "oaV2jam4SL4l"
      }
    },
    {
      "cell_type": "code",
      "execution_count": 303,
      "source": [
        "#Check accuracy\n",
        "acc_train8 = accuracy_score(y_train, y_train_p8)\n",
        "acc_eval8 = accuracy_score(y_eval, y_eval_p8)\n",
        "acc_cv8 = (np.mean(ad_rfs_val_scores))\n",
        "\n",
        "print(\"Accuracy Train Score :\",acc_train8)\n",
        "print(\"Accuracy Eval        :\",acc_eval8)\n",
        "print(\"Accuracy Train CV    :\",acc_cv8)\n"
      ],
      "outputs": [
        {
          "output_type": "stream",
          "name": "stdout",
          "text": [
            "Accuracy Train Score : 0.8186046511627907\n",
            "Accuracy Eval        : 0.7962962962962963\n",
            "Accuracy Train CV    : 0.7284416491963661\n"
          ]
        }
      ],
      "metadata": {
        "colab": {
          "base_uri": "https://localhost:8080/"
        },
        "id": "bti5y_gENMGl",
        "outputId": "81c0c845-1fd6-48db-94d9-0c9c7f8d17b9"
      }
    },
    {
      "cell_type": "markdown",
      "source": [
        "Comparing from other model before, AdaBoosting RandomForest is the best so far because it has accuracy in eval set and cross validation and also it's not that overfit."
      ],
      "metadata": {
        "id": "M7MKPhG0OrUG"
      }
    },
    {
      "cell_type": "markdown",
      "source": [
        "### Model 9 : Gradient Boosting"
      ],
      "metadata": {
        "id": "-Uto3JGWDrDG"
      }
    },
    {
      "cell_type": "markdown",
      "source": [
        "#### Model Definition\n"
      ],
      "metadata": {
        "id": "AcZvVxVYSMro"
      }
    },
    {
      "cell_type": "code",
      "execution_count": 304,
      "source": [
        "#Define the model \n",
        "gbrt = GradientBoostingClassifier(n_estimators=100, max_depth= 7, learning_rate=0.01, random_state=42 , loss=\"exponential\")"
      ],
      "outputs": [],
      "metadata": {
        "id": "P-nykPAFTMfV"
      }
    },
    {
      "cell_type": "markdown",
      "source": [
        "#### Model Training"
      ],
      "metadata": {
        "id": "jWLnL1wBSMro"
      }
    },
    {
      "cell_type": "code",
      "execution_count": 305,
      "source": [
        "#train the model with our data train\n",
        "gbrt.fit(X_train, y_train['DEATH_EVENT'])\n",
        "\n",
        "#predict against train data\n",
        "y_train_p9 = pd.DataFrame(gbrt.predict(X_train),columns=[\"pred_DEATH_EVENT\"])\n",
        "\n",
        "#predict against test data\n",
        "y_eval_p9 = pd.DataFrame(gbrt.predict(X_eval),columns=[\"pred_DEATH_EVENT\"])\n",
        "\n",
        "# Train model using cross-validation \n",
        "skf = StratifiedKFold(n_splits=5, random_state=42)\n",
        "gbrt_val_scores = cross_val_score(gbrt,  X_datamodel , y_datamodel[\"DEATH_EVENT\"], cv=skf)\n"
      ],
      "outputs": [],
      "metadata": {
        "id": "ElgrJx6iDugr"
      }
    },
    {
      "cell_type": "markdown",
      "source": [
        "#### Model Evaluation"
      ],
      "metadata": {
        "id": "JXHqRHgkSMro"
      }
    },
    {
      "cell_type": "code",
      "execution_count": 306,
      "source": [
        "#Check accuracy\n",
        "acc_train9 = accuracy_score(y_train, y_train_p9)\n",
        "acc_eval9 = accuracy_score(y_eval, y_eval_p9)\n",
        "acc_cv9 = (np.mean(gbrt_val_scores))\n",
        "\n",
        "print(\"Accuracy Train Score :\",acc_train9)\n",
        "print(\"Accuracy Eval        :\",acc_eval9)\n",
        "print(\"Accuracy Train CV    :\",acc_cv9)\n"
      ],
      "outputs": [
        {
          "output_type": "stream",
          "name": "stdout",
          "text": [
            "Accuracy Train Score : 0.9209302325581395\n",
            "Accuracy Eval        : 0.7037037037037037\n",
            "Accuracy Train CV    : 0.6988819007686933\n"
          ]
        }
      ],
      "metadata": {
        "colab": {
          "base_uri": "https://localhost:8080/"
        },
        "id": "XizUWEctD0DM",
        "outputId": "6cafb883-d3c0-4ec6-971e-648cf26966b8"
      }
    },
    {
      "cell_type": "markdown",
      "source": [
        "Same with AdaBoosting Decision Tree, Gradient Boosting is too overfit to used because it has high accuracy in train set but low accuracy in eval set and cross validation."
      ],
      "metadata": {
        "id": "WGQ7qD2DO6-Z"
      }
    },
    {
      "cell_type": "markdown",
      "source": [
        "### Summary Model\n",
        "\n",
        "Below we will summarize the accuray of every model."
      ],
      "metadata": {
        "id": "3ukea-JAD1mB"
      }
    },
    {
      "cell_type": "code",
      "execution_count": 307,
      "source": [
        "s_eval = pd.DataFrame({\n",
        "    \"Model\" :[\"Random Forest\",\"Bagging Decision Tree\",\"Bagging Random Forest\", \"Bagging SVC\",\"AdaBoosting\",\"AdaBoosting SVC\",\"AdaBoosting Decision Tree\",\"AdaBoosting RandomForest\",\"Gradient Boosting\"],\n",
        "    \"Accuracy Train Set\" :[acc_train1,acc_train2,acc_train3,acc_train4,acc_train5,acc_train6,acc_train7,acc_train8,acc_train9],\n",
        "    \"Accuracy Eval Set\": [acc_eval1,acc_eval2,acc_eval3,acc_eval4,acc_eval5,acc_eval6,acc_eval7,acc_eval8,acc_eval9],\n",
        "    \"Mean Accuracy CV\":[acc_cv1,acc_cv2,acc_cv3,acc_cv4, acc_cv5, acc_cv6, acc_cv7,acc_cv8,acc_cv9]\n",
        "})\n",
        "\n",
        "s_eval"
      ],
      "outputs": [
        {
          "output_type": "execute_result",
          "data": {
            "text/html": [
              "<div>\n",
              "<style scoped>\n",
              "    .dataframe tbody tr th:only-of-type {\n",
              "        vertical-align: middle;\n",
              "    }\n",
              "\n",
              "    .dataframe tbody tr th {\n",
              "        vertical-align: top;\n",
              "    }\n",
              "\n",
              "    .dataframe thead th {\n",
              "        text-align: right;\n",
              "    }\n",
              "</style>\n",
              "<table border=\"1\" class=\"dataframe\">\n",
              "  <thead>\n",
              "    <tr style=\"text-align: right;\">\n",
              "      <th></th>\n",
              "      <th>Model</th>\n",
              "      <th>Accuracy Train Set</th>\n",
              "      <th>Accuracy Eval Set</th>\n",
              "      <th>Mean Accuracy CV</th>\n",
              "    </tr>\n",
              "  </thead>\n",
              "  <tbody>\n",
              "    <tr>\n",
              "      <th>0</th>\n",
              "      <td>Random Forest</td>\n",
              "      <td>0.818605</td>\n",
              "      <td>0.777778</td>\n",
              "      <td>0.739762</td>\n",
              "    </tr>\n",
              "    <tr>\n",
              "      <th>1</th>\n",
              "      <td>Bagging Decision Tree</td>\n",
              "      <td>0.939535</td>\n",
              "      <td>0.777778</td>\n",
              "      <td>0.706289</td>\n",
              "    </tr>\n",
              "    <tr>\n",
              "      <th>2</th>\n",
              "      <td>Bagging Random Forest</td>\n",
              "      <td>0.795349</td>\n",
              "      <td>0.796296</td>\n",
              "      <td>0.732215</td>\n",
              "    </tr>\n",
              "    <tr>\n",
              "      <th>3</th>\n",
              "      <td>Bagging SVC</td>\n",
              "      <td>0.697674</td>\n",
              "      <td>0.703704</td>\n",
              "      <td>0.683997</td>\n",
              "    </tr>\n",
              "    <tr>\n",
              "      <th>4</th>\n",
              "      <td>AdaBoosting</td>\n",
              "      <td>0.874419</td>\n",
              "      <td>0.722222</td>\n",
              "      <td>0.698882</td>\n",
              "    </tr>\n",
              "    <tr>\n",
              "      <th>5</th>\n",
              "      <td>AdaBoosting SVC</td>\n",
              "      <td>0.683721</td>\n",
              "      <td>0.703704</td>\n",
              "      <td>0.687701</td>\n",
              "    </tr>\n",
              "    <tr>\n",
              "      <th>6</th>\n",
              "      <td>AdaBoosting Decision Tree</td>\n",
              "      <td>0.995349</td>\n",
              "      <td>0.759259</td>\n",
              "      <td>0.658071</td>\n",
              "    </tr>\n",
              "    <tr>\n",
              "      <th>7</th>\n",
              "      <td>AdaBoosting RandomForest</td>\n",
              "      <td>0.818605</td>\n",
              "      <td>0.796296</td>\n",
              "      <td>0.728442</td>\n",
              "    </tr>\n",
              "    <tr>\n",
              "      <th>8</th>\n",
              "      <td>Gradient Boosting</td>\n",
              "      <td>0.920930</td>\n",
              "      <td>0.703704</td>\n",
              "      <td>0.698882</td>\n",
              "    </tr>\n",
              "  </tbody>\n",
              "</table>\n",
              "</div>"
            ],
            "text/plain": [
              "                       Model  ...  Mean Accuracy CV\n",
              "0              Random Forest  ...          0.739762\n",
              "1      Bagging Decision Tree  ...          0.706289\n",
              "2      Bagging Random Forest  ...          0.732215\n",
              "3                Bagging SVC  ...          0.683997\n",
              "4                AdaBoosting  ...          0.698882\n",
              "5            AdaBoosting SVC  ...          0.687701\n",
              "6  AdaBoosting Decision Tree  ...          0.658071\n",
              "7   AdaBoosting RandomForest  ...          0.728442\n",
              "8          Gradient Boosting  ...          0.698882\n",
              "\n",
              "[9 rows x 4 columns]"
            ]
          },
          "metadata": {},
          "execution_count": 307
        }
      ],
      "metadata": {
        "colab": {
          "base_uri": "https://localhost:8080/",
          "height": 327
        },
        "id": "kX63f_KVgERS",
        "outputId": "bfd137e2-1cf3-4274-eae4-c37d7f2512fb"
      }
    },
    {
      "cell_type": "markdown",
      "source": [
        "Above we have summary accuracy of train set, eval set and cross validation set.  We could see almost all of model has eval set and cross validation set accuracy around 0,7.\n",
        "\n",
        "Now let's find out the best accuracy from above summary."
      ],
      "metadata": {
        "id": "YigxQLYOhCt-"
      }
    },
    {
      "cell_type": "code",
      "execution_count": 308,
      "source": [
        "#Model with highest accuracy of eval set\n",
        "s_eval[s_eval['Accuracy Eval Set'] == s_eval['Accuracy Eval Set'].max()]"
      ],
      "outputs": [
        {
          "output_type": "execute_result",
          "data": {
            "text/html": [
              "<div>\n",
              "<style scoped>\n",
              "    .dataframe tbody tr th:only-of-type {\n",
              "        vertical-align: middle;\n",
              "    }\n",
              "\n",
              "    .dataframe tbody tr th {\n",
              "        vertical-align: top;\n",
              "    }\n",
              "\n",
              "    .dataframe thead th {\n",
              "        text-align: right;\n",
              "    }\n",
              "</style>\n",
              "<table border=\"1\" class=\"dataframe\">\n",
              "  <thead>\n",
              "    <tr style=\"text-align: right;\">\n",
              "      <th></th>\n",
              "      <th>Model</th>\n",
              "      <th>Accuracy Train Set</th>\n",
              "      <th>Accuracy Eval Set</th>\n",
              "      <th>Mean Accuracy CV</th>\n",
              "    </tr>\n",
              "  </thead>\n",
              "  <tbody>\n",
              "    <tr>\n",
              "      <th>2</th>\n",
              "      <td>Bagging Random Forest</td>\n",
              "      <td>0.795349</td>\n",
              "      <td>0.796296</td>\n",
              "      <td>0.732215</td>\n",
              "    </tr>\n",
              "    <tr>\n",
              "      <th>7</th>\n",
              "      <td>AdaBoosting RandomForest</td>\n",
              "      <td>0.818605</td>\n",
              "      <td>0.796296</td>\n",
              "      <td>0.728442</td>\n",
              "    </tr>\n",
              "  </tbody>\n",
              "</table>\n",
              "</div>"
            ],
            "text/plain": [
              "                      Model  ...  Mean Accuracy CV\n",
              "2     Bagging Random Forest  ...          0.732215\n",
              "7  AdaBoosting RandomForest  ...          0.728442\n",
              "\n",
              "[2 rows x 4 columns]"
            ]
          },
          "metadata": {},
          "execution_count": 308
        }
      ],
      "metadata": {
        "colab": {
          "base_uri": "https://localhost:8080/",
          "height": 111
        },
        "id": "KcR-ChMyfyJQ",
        "outputId": "01ee3bd2-f104-4f79-8211-d71c527a31b0"
      }
    },
    {
      "cell_type": "code",
      "execution_count": 309,
      "source": [
        "#Model with highest average accuracy of Cross Validation\n",
        "s_eval[s_eval['Mean Accuracy CV'] == s_eval['Mean Accuracy CV'].max()]"
      ],
      "outputs": [
        {
          "output_type": "execute_result",
          "data": {
            "text/html": [
              "<div>\n",
              "<style scoped>\n",
              "    .dataframe tbody tr th:only-of-type {\n",
              "        vertical-align: middle;\n",
              "    }\n",
              "\n",
              "    .dataframe tbody tr th {\n",
              "        vertical-align: top;\n",
              "    }\n",
              "\n",
              "    .dataframe thead th {\n",
              "        text-align: right;\n",
              "    }\n",
              "</style>\n",
              "<table border=\"1\" class=\"dataframe\">\n",
              "  <thead>\n",
              "    <tr style=\"text-align: right;\">\n",
              "      <th></th>\n",
              "      <th>Model</th>\n",
              "      <th>Accuracy Train Set</th>\n",
              "      <th>Accuracy Eval Set</th>\n",
              "      <th>Mean Accuracy CV</th>\n",
              "    </tr>\n",
              "  </thead>\n",
              "  <tbody>\n",
              "    <tr>\n",
              "      <th>0</th>\n",
              "      <td>Random Forest</td>\n",
              "      <td>0.818605</td>\n",
              "      <td>0.777778</td>\n",
              "      <td>0.739762</td>\n",
              "    </tr>\n",
              "  </tbody>\n",
              "</table>\n",
              "</div>"
            ],
            "text/plain": [
              "           Model  Accuracy Train Set  Accuracy Eval Set  Mean Accuracy CV\n",
              "0  Random Forest            0.818605           0.777778          0.739762"
            ]
          },
          "metadata": {},
          "execution_count": 309
        }
      ],
      "metadata": {
        "colab": {
          "base_uri": "https://localhost:8080/",
          "height": 80
        },
        "id": "E4i5MVFrgK1t",
        "outputId": "8a439d62-2a11-47a0-d69a-e2917fad3783"
      }
    },
    {
      "cell_type": "markdown",
      "source": [
        "From above result, we could conclude that we have 3 model filtered :\n",
        "1. Model 1 Random Forest\n",
        "2. Model 3 Bagging Random Forest\n",
        "3. Model 8 AdaBoosting Random Forest\n",
        "\n",
        "Model 1 is the winner from accuracy cross validation perspective, while Model 3 and 8 is great from eval set perspective.\n"
      ],
      "metadata": {
        "id": "g7eZWpctUTXg"
      }
    },
    {
      "cell_type": "markdown",
      "source": [
        "## Model Evaluation\n",
        "\n",
        "\n",
        "In this section we will evaluate the model by comparing value of Confusion Matrics, Precision, Recall, Accuracy Score, ROC Value.\n",
        "\n",
        "1. Confusion Matrics is value that represents total of true positive, true negatif , false positive and false negative of data that produced by the model. \n",
        "2. Precision is comparison between true positive and total of data which are predicted as positive.\n",
        "3. Recall is is comparison between true positive and total of data which are actually as positive.\n",
        "4. F1-Score is the harmonic mean from Precision and Recall\n",
        "5. AUC Value is total probability of confusion matriks from all treshold in the model.\n",
        "\n",
        "\n",
        "Recalling at previous Model Training, we deciced to just evaluate 3 models."
      ],
      "metadata": {
        "id": "Ua9rg4MnhroP"
      }
    },
    {
      "cell_type": "markdown",
      "source": [
        "### Mode 1 Evaluation : Random Forest"
      ],
      "metadata": {
        "id": "Y5m8iDVAievX"
      }
    },
    {
      "cell_type": "code",
      "execution_count": 310,
      "source": [
        "#Accuracy model\n",
        "print('Accuracy of Random Forest on eval set: {:.2f}'.format(rnd_fr.score(X_eval, y_eval)))\n",
        "print(\"\")\n",
        "\n",
        "#confussion matrix\n",
        "confusion_matrix1 = confusion_matrix(y_eval, y_eval_p1)\n",
        "print(confusion_matrix1)\n",
        "print(\"\")\n",
        "\n",
        "#Classification report\n",
        "print(\"Evaluation report : \")\n",
        "print(classification_report(y_eval, y_eval_p1))\n",
        "print(\"\")\n",
        "\n",
        "#ROC Curve\n",
        "logit_roc_auc1 = roc_auc_score(y_eval, y_eval_p1)\n",
        "print(\"AUC Score : \", logit_roc_auc1)\n",
        "print(\"\")\n",
        "fpr1, tpr1, thresholds1 = roc_curve(y_eval, y_eval_p1)\n",
        "plt.figure()\n",
        "plt.plot(fpr1, tpr1, label='Logistic Regression (area = %0.2f)' % logit_roc_auc1)\n",
        "plt.plot([0, 1], [0, 1],'r--')\n",
        "plt.xlim([0.0, 1.0])\n",
        "plt.ylim([0.0, 1.05])\n",
        "plt.xlabel('False Positive Rate')\n",
        "plt.ylabel('True Positive Rate')\n",
        "plt.title('Receiver operating characteristic')\n",
        "plt.legend(loc=\"lower right\")\n",
        "plt.savefig('Log_ROC')\n",
        "plt.show()\n"
      ],
      "outputs": [
        {
          "output_type": "stream",
          "name": "stdout",
          "text": [
            "Accuracy of Random Forest on eval set: 0.78\n",
            "\n",
            "[[34  3]\n",
            " [ 9  8]]\n",
            "\n",
            "Evaluation report : \n",
            "              precision    recall  f1-score   support\n",
            "\n",
            "           0       0.79      0.92      0.85        37\n",
            "           1       0.73      0.47      0.57        17\n",
            "\n",
            "    accuracy                           0.78        54\n",
            "   macro avg       0.76      0.69      0.71        54\n",
            "weighted avg       0.77      0.78      0.76        54\n",
            "\n",
            "\n",
            "AUC Score :  0.6947535771065183\n",
            "\n"
          ]
        },
        {
          "output_type": "display_data",
          "data": {
            "image/png": "[encoded data removed]",
            "text/plain": [
              "<Figure size 432x288 with 1 Axes>"
            ]
          },
          "metadata": {
            "needs_background": "light"
          }
        }
      ],
      "metadata": {
        "colab": {
          "base_uri": "https://localhost:8080/",
          "height": 615
        },
        "id": "UMB1UW12ieXh",
        "outputId": "5d5250c5-76ad-4940-ed74-2d090275252b"
      }
    },
    {
      "cell_type": "markdown",
      "source": [
        "Intepretation :\n",
        "\n",
        "For death event context, we will more concern about the data which deat_event is true or 1.\n",
        "\n",
        "Above evaluation tells , Random Forest has ability 0.73 to predict death event from dataset, and the ability of its model to not predict death event as not death is 0.47.\n",
        "\n",
        "The probability of resulting confusion matrics of each treshold has fair values which 0.69.\n",
        "\n",
        "Here we will more concern about the recall since we hoping the the model to not predict a death event as the not death event.\n"
      ],
      "metadata": {
        "id": "sIzFxbSxogqa"
      }
    },
    {
      "cell_type": "markdown",
      "source": [
        "### Model 3 Evaluation : Bagging RandomForest"
      ],
      "metadata": {
        "id": "GQRj9hbCk5_O"
      }
    },
    {
      "cell_type": "code",
      "execution_count": 311,
      "source": [
        "#Accuracy model\n",
        "print('Accuracy of Random Forest on eval set: {:.2f}'.format(bag_rfs.score(X_eval, y_eval)))\n",
        "print(\"\")\n",
        "\n",
        "#confussion matrix\n",
        "confusion_matrix3 = confusion_matrix(y_eval, y_eval_p3)\n",
        "print(confusion_matrix3)\n",
        "print(\"\")\n",
        "\n",
        "#Classification report\n",
        "print(\"Evaluation report : \")\n",
        "print(classification_report(y_eval, y_eval_p3))\n",
        "print(\"\")\n",
        "\n",
        "#ROC Curve\n",
        "logit_roc_auc3 = roc_auc_score(y_eval, y_eval_p3)\n",
        "print(\"AUC Score : \", logit_roc_auc3)\n",
        "print(\"\")\n",
        "fpr3, tpr3, thresholds3 = roc_curve(y_eval, y_eval_p3)\n",
        "plt.figure()\n",
        "plt.plot(fpr3, tpr3, label='Logistic Regression (area = %0.2f)' % logit_roc_auc3)\n",
        "plt.plot([0, 1], [0, 1],'r--')\n",
        "plt.xlim([0.0, 1.0])\n",
        "plt.ylim([0.0, 1.05])\n",
        "plt.xlabel('False Positive Rate')\n",
        "plt.ylabel('True Positive Rate')\n",
        "plt.title('Receiver operating characteristic')\n",
        "plt.legend(loc=\"lower right\")\n",
        "plt.savefig('Log_ROC')\n",
        "plt.show()\n"
      ],
      "outputs": [
        {
          "output_type": "stream",
          "name": "stdout",
          "text": [
            "Accuracy of Random Forest on eval set: 0.80\n",
            "\n",
            "[[36  1]\n",
            " [10  7]]\n",
            "\n",
            "Evaluation report : \n",
            "              precision    recall  f1-score   support\n",
            "\n",
            "           0       0.78      0.97      0.87        37\n",
            "           1       0.88      0.41      0.56        17\n",
            "\n",
            "    accuracy                           0.80        54\n",
            "   macro avg       0.83      0.69      0.71        54\n",
            "weighted avg       0.81      0.80      0.77        54\n",
            "\n",
            "\n",
            "AUC Score :  0.6923688394276629\n",
            "\n"
          ]
        },
        {
          "output_type": "display_data",
          "data": {
            "image/png": "[encoded data removed]",
            "text/plain": [
              "<Figure size 432x288 with 1 Axes>"
            ]
          },
          "metadata": {
            "needs_background": "light"
          }
        }
      ],
      "metadata": {
        "colab": {
          "base_uri": "https://localhost:8080/",
          "height": 615
        },
        "id": "n0OvrHJXh3CT",
        "outputId": "e854d9ba-59d4-4064-afdc-389ebe2d7f44"
      }
    },
    {
      "cell_type": "markdown",
      "source": [
        "Interpretation :\n",
        "\n",
        "Comparing with RandomForest, Bagging RandomForest has same value of AUC Score which 0.69.\n",
        "\n",
        "But the recall value to predict the death event from dataset is worse than RandomForest. So we could say Random Forest is better than Bagging Random Forest."
      ],
      "metadata": {
        "id": "act87nfUuiZg"
      }
    },
    {
      "cell_type": "markdown",
      "source": [
        "### Model 8 Evaluation : AdaBoosting RandfomForest"
      ],
      "metadata": {
        "id": "8D_NtkYIlNMX"
      }
    },
    {
      "cell_type": "code",
      "execution_count": 312,
      "source": [
        "\n",
        "#Accuracy model\n",
        "print('Accuracy of Random Forest on eval set: {:.2f}'.format(ad_rfs.score(X_eval, y_eval)))\n",
        "print(\"\")\n",
        "\n",
        "#confussion matrix\n",
        "confusion_matrix8 = confusion_matrix(y_eval, y_eval_p8)\n",
        "print(confusion_matrix8)\n",
        "print(\"\")\n",
        "\n",
        "#Classification report\n",
        "print(\"Evaluation report : \")\n",
        "print(classification_report(y_eval, y_eval_p8))\n",
        "print(\"\")\n",
        "\n",
        "#ROC Curve\n",
        "logit_roc_auc8 = roc_auc_score(y_eval, y_eval_p8)\n",
        "print(\"AUC Score : \", logit_roc_auc8)\n",
        "print(\"\")\n",
        "fpr8, tpr8, thresholds8 = roc_curve(y_eval, y_eval_p8)\n",
        "plt.figure()\n",
        "plt.plot(fpr8, tpr8, label='Logistic Regression (area = %0.2f)' % logit_roc_auc8)\n",
        "plt.plot([0, 1], [0, 1],'r--')\n",
        "plt.xlim([0.0, 1.0])\n",
        "plt.ylim([0.0, 1.05])\n",
        "plt.xlabel('False Positive Rate')\n",
        "plt.ylabel('True Positive Rate')\n",
        "plt.title('Receiver operating characteristic')\n",
        "plt.legend(loc=\"lower right\")\n",
        "plt.savefig('Log_ROC')\n",
        "plt.show()\n"
      ],
      "outputs": [
        {
          "output_type": "stream",
          "name": "stdout",
          "text": [
            "Accuracy of Random Forest on eval set: 0.80\n",
            "\n",
            "[[35  2]\n",
            " [ 9  8]]\n",
            "\n",
            "Evaluation report : \n",
            "              precision    recall  f1-score   support\n",
            "\n",
            "           0       0.80      0.95      0.86        37\n",
            "           1       0.80      0.47      0.59        17\n",
            "\n",
            "    accuracy                           0.80        54\n",
            "   macro avg       0.80      0.71      0.73        54\n",
            "weighted avg       0.80      0.80      0.78        54\n",
            "\n",
            "\n",
            "AUC Score :  0.7082670906200319\n",
            "\n"
          ]
        },
        {
          "output_type": "display_data",
          "data": {
            "image/png": "[encoded data removed]",
            "text/plain": [
              "<Figure size 432x288 with 1 Axes>"
            ]
          },
          "metadata": {
            "needs_background": "light"
          }
        }
      ],
      "metadata": {
        "colab": {
          "base_uri": "https://localhost:8080/",
          "height": 615
        },
        "id": "LdzLYCgwlIW7",
        "outputId": "0d95d4f2-52f9-406e-8774-bc3a90711560"
      }
    },
    {
      "cell_type": "markdown",
      "source": [
        "Interpretation :\n",
        "\n",
        "AdaBoosting RandomForest has same ability recall with RandomForest in predicting against death event which 0.47, but this model has more pros in AUC Score is higher than 2 models before.\n",
        "\n",
        "Not only that, the ability to predict true death event also better than others with value 0.80."
      ],
      "metadata": {
        "id": "2zO9L09Yvt3h"
      }
    },
    {
      "cell_type": "markdown",
      "source": [
        "### Summary Evaluation\n",
        "\n",
        "\n",
        "We could summary the intrepretation below :\n",
        "\n",
        "1. From perspective recall (the ability to not predict death event as not death event) , AdaBoosting RandomForest and RandomForest has same ability while Bagging RandomForest is worse.\n",
        "2. From perspective precision (ability to predict true death event from dataset) , AdaBoosting RandomForest is the winner than others.\n",
        "3. Form perspecive of AUC Score, AdaBoosting RandomForest also the winner than others.\n",
        "\n",
        "From above summary, we can conclude Adaboosting RandomForest is the best model from those model trained. So we will use Adaboosting RandomForest for our model."
      ],
      "metadata": {
        "id": "6_ryUGj1wpLP"
      }
    },
    {
      "cell_type": "markdown",
      "source": [
        "## Model Iference\n",
        "\n",
        "In this section we will use previous test data to try our final prediction. But before that, we need to pre process our sample data first."
      ],
      "metadata": {
        "id": "FQiq301exZaN"
      }
    },
    {
      "cell_type": "code",
      "execution_count": 313,
      "source": [
        "#Define sample data\n",
        "X_test_us = test_df.drop(['DEATH_EVENT'], axis=1)\n",
        "y_test = pd.DataFrame(test_df['DEATH_EVENT'],columns=['DEATH_EVENT'])\n",
        "\n",
        "#Transform eval data\n",
        "X_test = pd.DataFrame(f_scaler.transform(X_test_us), columns=X_test_us.columns)\n"
      ],
      "outputs": [],
      "metadata": {
        "id": "Yk6FznbUwoEa"
      }
    },
    {
      "cell_type": "code",
      "execution_count": 314,
      "source": [
        "#Predict RainTomorrow\n",
        "y_test_pred= ad_rfs.predict(X_test)\n",
        "\n",
        "#Result\n",
        "result = pd.DataFrame({\"DEATH_EVENT\": y_test['DEATH_EVENT'], \"Pred DEAT_EVENT\":y_test_pred})"
      ],
      "outputs": [],
      "metadata": {
        "id": "FhutN7ylxtex"
      }
    },
    {
      "cell_type": "code",
      "execution_count": 315,
      "source": [
        "#Graph\n",
        "gr = pd.melt(result)\n",
        "plt.figure(figsize=(10,5));\n",
        "g1 =sns.countplot(data=gr, x=\"value\",  palette=\"hls\", hue=\"variable\")\n",
        "plt.legend(bbox_to_anchor=(1.02, 1), loc='upper left', borderaxespad=0 , labels=['Death Event', 'Prediciton Death Event'])\n",
        "g1.set_xticklabels(['Not Death', 'Death'])\n",
        "plt.show()\n"
      ],
      "outputs": [
        {
          "output_type": "display_data",
          "data": {
            "image/png": "[encoded data removed]",
            "text/plain": [
              "<Figure size 720x360 with 1 Axes>"
            ]
          },
          "metadata": {
            "needs_background": "light"
          }
        }
      ],
      "metadata": {
        "colab": {
          "base_uri": "https://localhost:8080/",
          "height": 334
        },
        "id": "teTTIMooxtVk",
        "outputId": "a913459d-5e40-4f47-e585-d73c3bbec8df"
      }
    },
    {
      "cell_type": "markdown",
      "source": [
        "From recall perspective, AdaBoosting RandomForest has ability almost 0.50 not to predict the death as not death. \n",
        "\n",
        "Above graph we could see, prediciton from AdaBoosting model is a half from the actual death.\n"
      ],
      "metadata": {
        "id": "IBDUlbowQpzu"
      }
    },
    {
      "cell_type": "markdown",
      "source": [
        "## Conclusion\n",
        "\n",
        "Below the conclusion of this notebook, recalling the Goals.\n",
        "1. Adaboosting RandomForest is the best model because, compared to others models, it has high ability to not predict death event because of heart failure as not death event. And also it has highest ability to predict true death event from dataset. \n",
        "2. Man are more prone to death because of heart failure.\n",
        "3. Heart Failure is hapening in range age 40-95 which the most mortality is happening in age 60. It means a human must be more carefull about their health when they already meet 40 years old above.\n",
        "4. Total 77 from 96 mortality is happened to person who has cormobid disease like anaemia, diabetes or hypertension. We could conclude cormobid might caused the mortality of heart failure.\n"
      ],
      "metadata": {
        "id": "blRXAfc00ENK"
      }
    },
    {
      "cell_type": "code",
      "execution_count": 315,
      "source": [],
      "outputs": [],
      "metadata": {
        "id": "8wcqRv7-zXrp"
      }
    }
  ]
}